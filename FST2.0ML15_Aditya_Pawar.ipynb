{
 "cells": [
  {
   "cell_type": "markdown",
   "id": "21d0c0fd",
   "metadata": {},
   "source": [
    "# Python Program"
   ]
  },
  {
   "cell_type": "raw",
   "id": "1f26d757",
   "metadata": {},
   "source": [
    "#Q.1 Python program to display the sum of n numbers using the list"
   ]
  },
  {
   "cell_type": "code",
   "execution_count": 66,
   "id": "7d255e63",
   "metadata": {},
   "outputs": [
    {
     "name": "stdout",
     "output_type": "stream",
     "text": [
      "Enter how many numbers you wants to append:10\n",
      "Enter number:1\n",
      "Enter number:2\n",
      "Enter number:3\n",
      "Enter number:4\n",
      "Enter number:5\n",
      "Enter number:6\n",
      "Enter number:7\n",
      "Enter number:8\n",
      "Enter number:9\n",
      "Enter number:10\n",
      "The sum of n numbers in list is: 55\n"
     ]
    }
   ],
   "source": [
    "n = int(input(\"Enter how many numbers you wants to append:\"))\n",
    "\n",
    "list = []\n",
    "\n",
    "for i in range(n):\n",
    "    num = int(input(\"Enter number:\"))\n",
    "    list.append(num)\n",
    "\n",
    "sum = 0\n",
    "\n",
    "for i in list:\n",
    "    sum = sum + i\n",
    "    \n",
    "print(\"The sum of n numbers in list is:\", sum)"
   ]
  },
  {
   "cell_type": "raw",
   "id": "1ddbf41b",
   "metadata": {},
   "source": [
    "# Q.2. Use a dictionary comprehension to count the length of each word in a sentence."
   ]
  },
  {
   "cell_type": "code",
   "execution_count": 64,
   "id": "c6b90b5a",
   "metadata": {},
   "outputs": [
    {
     "name": "stdout",
     "output_type": "stream",
     "text": [
      "{'The': 3, 'quick': 5, 'brown': 5, 'fox': 3, 'jumps': 5, 'over': 4, 'the': 3, 'lazy': 4, 'dog': 3}\n"
     ]
    }
   ],
   "source": [
    "sentence = \"The quick brown fox jumps over the lazy dog\"\n",
    "\n",
    "word_lengths = {word: len(word) for word in sentence.split()}\n",
    "\n",
    "print(word_lengths)"
   ]
  },
  {
   "cell_type": "raw",
   "id": "c922997f",
   "metadata": {},
   "source": [
    "# Q.3 Create an application using python which can perform the operations mentioned in the below image.\n",
    "\n"
   ]
  },
  {
   "cell_type": "code",
   "execution_count": 60,
   "id": "c5a0ea06",
   "metadata": {},
   "outputs": [
    {
     "name": "stdout",
     "output_type": "stream",
     "text": [
      "*****Welcome to State bank of India:*****\n",
      "\n",
      "Enter your 4 digit pin Number:1234\n",
      "Please choose transaction: \n",
      "1-Withdrow \n",
      "2-Balance Enquiry \n",
      "3-FastCash \n",
      "Please choose transaction:1\n",
      "Enter withdrowl amount:2500\n",
      "Please take your amount: 2500 \n",
      "Balance: 7500\n"
     ]
    }
   ],
   "source": [
    "\n",
    "print('*****Welcome to State bank of India:*****\\n')\n",
    "\n",
    "Balance = 10000\n",
    "\n",
    "pin = int(input(\"Enter your 4 digit pin Number:\"))\n",
    "\n",
    "if pin == 1234:\n",
    "    choice = int(input(\"Please choose transaction: \\n1-Withdrow \\n2-Balance Enquiry \\n3-FastCash \\nPlease choose transaction:\"))\n",
    "\n",
    "    if choice==1:\n",
    "        amount = int(input(\"Enter withdrowl amount:\"))\n",
    "        if amount < Balance:\n",
    "            Balance = Balance-amount\n",
    "            print(\"Please take your amount:\", amount, \"\\nBalance:\",Balance)\n",
    "        else:\n",
    "            print(\"Insufficient Balance\")\n",
    "            \n",
    "    elif choice==2:\n",
    "        print(\"Your Balance is:\", Balance)\n",
    "        \n",
    "    elif choice==3:\n",
    "        print(\"1. Rs. 100\")\n",
    "        print(\"2. Rs. 500\")\n",
    "        print(\"3. Rs. 1000\")\n",
    "        fast_cash_option = int(input(\"Please choose a fast cash option: \"))\n",
    "\n",
    "        if fast_cash_option == 1:\n",
    "            if Balance >= 100:\n",
    "                Balance -= 100\n",
    "                print(\"Please take your amount: 100\")\n",
    "            else:\n",
    "                print(\"Insufficient balance\")\n",
    "\n",
    "        elif fast_cash_option == 2:\n",
    "            if Balance >= 500:\n",
    "                Balance -= 500\n",
    "                print(\"Please take your amount: 500\")\n",
    "            else:\n",
    "                print(\"Insufficient balance\")\n",
    "\n",
    "        elif fast_cash_option == 3:\n",
    "            if Balance >= 1000:\n",
    "                Balance -= 1000\n",
    "                print(\"Please take your amount: 1000\")\n",
    "            else:\n",
    "                print(\"Insufficient balance\")\n",
    "\n",
    "        else:\n",
    "            print(\"Invalid option selected\")\n",
    "    \n",
    "    else:\n",
    "        print(\"Invalid option selected\")\n",
    "    \n",
    "else:\n",
    "    print(\"Incorrect PIN\")"
   ]
  },
  {
   "cell_type": "raw",
   "id": "0154bf22",
   "metadata": {},
   "source": [
    "# Q.4 Tests whether a data sample has a Gaussian distribution.\n",
    "# a)Generate the data, form H0 and H1 and write python code to test the Normality"
   ]
  },
  {
   "cell_type": "code",
   "execution_count": null,
   "id": "6aa2b7bc",
   "metadata": {},
   "outputs": [],
   "source": []
  },
  {
   "cell_type": "code",
   "execution_count": null,
   "id": "ab922d84",
   "metadata": {},
   "outputs": [],
   "source": []
  },
  {
   "cell_type": "raw",
   "id": "c9e32ec1",
   "metadata": {},
   "source": [
    "# Q.6 Python Program to Make a Simple Calculator"
   ]
  },
  {
   "cell_type": "code",
   "execution_count": 29,
   "id": "281cfa2b",
   "metadata": {},
   "outputs": [
    {
     "name": "stdout",
     "output_type": "stream",
     "text": [
      "Simple Claculator\n",
      "Enter First number:10\n",
      "Enter second number:12\n",
      "Enter your choice: \n",
      "1.Sum(+) \n",
      "2.Substraction(-) \n",
      "3.Multiply(*) \n",
      "4.Divide(/) \n",
      "=1\n",
      "Answer :  22\n"
     ]
    }
   ],
   "source": [
    "\n",
    "print(\"Simple Claculator\")\n",
    "\n",
    "a = int(input(\"Enter First number:\"))\n",
    "b = int(input(\"Enter second number:\"))\n",
    "\n",
    "clc = int(input(\"Enter your choice: \\n1.Sum(+) \\n2.Substraction(-) \\n3.Multiply(*) \\n4.Divide(/) \\n=\"))\n",
    "\n",
    "if clc == 1:\n",
    "    print(\"Answer : \", a+b)\n",
    "elif clc == 2:\n",
    "    print(\"Answer : \", a-b)\n",
    "elif clc == 3:\n",
    "    print(\"Answer : \", a*b)\n",
    "elif clc == 4:\n",
    "    print(\"Answer : \", a/b)\n",
    "else:\n",
    "    print(\"Wrong choice\")"
   ]
  },
  {
   "cell_type": "raw",
   "id": "519af0e9",
   "metadata": {},
   "source": [
    "Q.5 The objective of this project is to explore a dataset containing customer information for treadmill products for a retail store called Cardio Good Fitness."
   ]
  },
  {
   "cell_type": "code",
   "execution_count": null,
   "id": "16164d31",
   "metadata": {},
   "outputs": [],
   "source": []
  },
  {
   "cell_type": "code",
   "execution_count": 38,
   "id": "f9ea0214",
   "metadata": {},
   "outputs": [],
   "source": [
    "import pandas as pd\n",
    "import numpy as np\n",
    "import matplotlib.pyplot as plt\n",
    "import seaborn as sns"
   ]
  },
  {
   "cell_type": "code",
   "execution_count": 39,
   "id": "35dd0f19",
   "metadata": {},
   "outputs": [],
   "source": [
    "# Load the dataset into a pandas dataframe\n",
    "df = pd.read_csv('CardioGoodFitness.csv')"
   ]
  },
  {
   "cell_type": "code",
   "execution_count": 41,
   "id": "da97d63f",
   "metadata": {},
   "outputs": [
    {
     "data": {
      "text/html": [
       "<div>\n",
       "<style scoped>\n",
       "    .dataframe tbody tr th:only-of-type {\n",
       "        vertical-align: middle;\n",
       "    }\n",
       "\n",
       "    .dataframe tbody tr th {\n",
       "        vertical-align: top;\n",
       "    }\n",
       "\n",
       "    .dataframe thead th {\n",
       "        text-align: right;\n",
       "    }\n",
       "</style>\n",
       "<table border=\"1\" class=\"dataframe\">\n",
       "  <thead>\n",
       "    <tr style=\"text-align: right;\">\n",
       "      <th></th>\n",
       "      <th>Product</th>\n",
       "      <th>Age</th>\n",
       "      <th>Gender</th>\n",
       "      <th>Education</th>\n",
       "      <th>MaritalStatus</th>\n",
       "      <th>Usage</th>\n",
       "      <th>Fitness</th>\n",
       "      <th>Income</th>\n",
       "      <th>Miles</th>\n",
       "    </tr>\n",
       "  </thead>\n",
       "  <tbody>\n",
       "    <tr>\n",
       "      <th>0</th>\n",
       "      <td>TM195</td>\n",
       "      <td>18</td>\n",
       "      <td>Male</td>\n",
       "      <td>14</td>\n",
       "      <td>Single</td>\n",
       "      <td>3</td>\n",
       "      <td>4</td>\n",
       "      <td>29562</td>\n",
       "      <td>112</td>\n",
       "    </tr>\n",
       "    <tr>\n",
       "      <th>1</th>\n",
       "      <td>TM195</td>\n",
       "      <td>19</td>\n",
       "      <td>Male</td>\n",
       "      <td>15</td>\n",
       "      <td>Single</td>\n",
       "      <td>2</td>\n",
       "      <td>3</td>\n",
       "      <td>31836</td>\n",
       "      <td>75</td>\n",
       "    </tr>\n",
       "    <tr>\n",
       "      <th>2</th>\n",
       "      <td>TM195</td>\n",
       "      <td>19</td>\n",
       "      <td>Female</td>\n",
       "      <td>14</td>\n",
       "      <td>Partnered</td>\n",
       "      <td>4</td>\n",
       "      <td>3</td>\n",
       "      <td>30699</td>\n",
       "      <td>66</td>\n",
       "    </tr>\n",
       "    <tr>\n",
       "      <th>3</th>\n",
       "      <td>TM195</td>\n",
       "      <td>19</td>\n",
       "      <td>Male</td>\n",
       "      <td>12</td>\n",
       "      <td>Single</td>\n",
       "      <td>3</td>\n",
       "      <td>3</td>\n",
       "      <td>32973</td>\n",
       "      <td>85</td>\n",
       "    </tr>\n",
       "    <tr>\n",
       "      <th>4</th>\n",
       "      <td>TM195</td>\n",
       "      <td>20</td>\n",
       "      <td>Male</td>\n",
       "      <td>13</td>\n",
       "      <td>Partnered</td>\n",
       "      <td>4</td>\n",
       "      <td>2</td>\n",
       "      <td>35247</td>\n",
       "      <td>47</td>\n",
       "    </tr>\n",
       "  </tbody>\n",
       "</table>\n",
       "</div>"
      ],
      "text/plain": [
       "  Product  Age  Gender  Education MaritalStatus  Usage  Fitness  Income  Miles\n",
       "0   TM195   18    Male         14        Single      3        4   29562    112\n",
       "1   TM195   19    Male         15        Single      2        3   31836     75\n",
       "2   TM195   19  Female         14     Partnered      4        3   30699     66\n",
       "3   TM195   19    Male         12        Single      3        3   32973     85\n",
       "4   TM195   20    Male         13     Partnered      4        2   35247     47"
      ]
     },
     "execution_count": 41,
     "metadata": {},
     "output_type": "execute_result"
    }
   ],
   "source": [
    "df.head()"
   ]
  },
  {
   "cell_type": "code",
   "execution_count": 42,
   "id": "1fe01be4",
   "metadata": {},
   "outputs": [
    {
     "data": {
      "text/plain": [
       "(180, 9)"
      ]
     },
     "execution_count": 42,
     "metadata": {},
     "output_type": "execute_result"
    }
   ],
   "source": [
    "df.shape"
   ]
  },
  {
   "cell_type": "code",
   "execution_count": 43,
   "id": "b65b0ae2",
   "metadata": {
    "scrolled": true
   },
   "outputs": [
    {
     "name": "stdout",
     "output_type": "stream",
     "text": [
      "              Age   Education       Usage     Fitness         Income  \\\n",
      "count  180.000000  180.000000  180.000000  180.000000     180.000000   \n",
      "mean    28.788889   15.572222    3.455556    3.311111   53719.577778   \n",
      "std      6.943498    1.617055    1.084797    0.958869   16506.684226   \n",
      "min     18.000000   12.000000    2.000000    1.000000   29562.000000   \n",
      "25%     24.000000   14.000000    3.000000    3.000000   44058.750000   \n",
      "50%     26.000000   16.000000    3.000000    3.000000   50596.500000   \n",
      "75%     33.000000   16.000000    4.000000    4.000000   58668.000000   \n",
      "max     50.000000   21.000000    7.000000    5.000000  104581.000000   \n",
      "\n",
      "            Miles  \n",
      "count  180.000000  \n",
      "mean   103.194444  \n",
      "std     51.863605  \n",
      "min     21.000000  \n",
      "25%     66.000000  \n",
      "50%     94.000000  \n",
      "75%    114.750000  \n",
      "max    360.000000  \n"
     ]
    }
   ],
   "source": [
    "print(df.describe())"
   ]
  },
  {
   "cell_type": "code",
   "execution_count": 44,
   "id": "edd3c325",
   "metadata": {},
   "outputs": [
    {
     "name": "stdout",
     "output_type": "stream",
     "text": [
      "Male      104\n",
      "Female     76\n",
      "Name: Gender, dtype: int64\n",
      "Partnered    107\n",
      "Single        73\n",
      "Name: MaritalStatus, dtype: int64\n"
     ]
    }
   ],
   "source": [
    "# Display counts for categorical columns\n",
    "print(df['Gender'].value_counts())\n",
    "print(df['MaritalStatus'].value_counts())"
   ]
  },
  {
   "cell_type": "code",
   "execution_count": null,
   "id": "cfb9379e",
   "metadata": {},
   "outputs": [],
   "source": []
  },
  {
   "cell_type": "code",
   "execution_count": 74,
   "id": "ccb320ab",
   "metadata": {},
   "outputs": [
    {
     "name": "stdout",
     "output_type": "stream",
     "text": [
      "Gender  Fitness\n",
      "Female  3          45\n",
      "        2          16\n",
      "        4           8\n",
      "        5           6\n",
      "        1           1\n",
      "Male    3          52\n",
      "        5          25\n",
      "        4          16\n",
      "        2          10\n",
      "        1           1\n",
      "Name: Fitness, dtype: int64\n"
     ]
    }
   ],
   "source": [
    "fitness_by_gender = df.groupby('Gender')['Fitness'].value_counts()\n",
    "print(fitness_by_gender)"
   ]
  },
  {
   "cell_type": "code",
   "execution_count": 79,
   "id": "3b78d1e9",
   "metadata": {},
   "outputs": [],
   "source": [
    "# Calculate the mean fitness score for each gender\n",
    "fitness_by_gender = df.groupby('Gender')['Fitness'].mean()"
   ]
  },
  {
   "cell_type": "code",
   "execution_count": 80,
   "id": "9399aa67",
   "metadata": {},
   "outputs": [
    {
     "name": "stdout",
     "output_type": "stream",
     "text": [
      "Gender\n",
      "Female    3.026316\n",
      "Male      3.519231\n",
      "Name: Fitness, dtype: float64\n"
     ]
    }
   ],
   "source": [
    "# Print the mean fitness score for each gender\n",
    "print(fitness_by_gender)"
   ]
  },
  {
   "cell_type": "code",
   "execution_count": 47,
   "id": "11ff9cf8",
   "metadata": {
    "scrolled": true
   },
   "outputs": [],
   "source": [
    "# most popular product among all\n",
    "product_counts = df['Product'].value_counts()"
   ]
  },
  {
   "cell_type": "code",
   "execution_count": 48,
   "id": "076a8023",
   "metadata": {},
   "outputs": [
    {
     "name": "stdout",
     "output_type": "stream",
     "text": [
      "TM195    80\n",
      "TM498    60\n",
      "TM798    40\n",
      "Name: Product, dtype: int64\n"
     ]
    }
   ],
   "source": [
    "# Print the product counts\n",
    "print(product_counts)"
   ]
  },
  {
   "cell_type": "code",
   "execution_count": 81,
   "id": "9dca7bb6",
   "metadata": {},
   "outputs": [],
   "source": [
    "# Calculate the mean fitness score for each marital status\n",
    "mean_fitness_by_marital_status = df.groupby('MaritalStatus')['Fitness'].mean()\n"
   ]
  },
  {
   "cell_type": "code",
   "execution_count": 82,
   "id": "ce40dd8c",
   "metadata": {},
   "outputs": [
    {
     "name": "stdout",
     "output_type": "stream",
     "text": [
      "MaritalStatus\n",
      "Partnered    3.271028\n",
      "Single       3.369863\n",
      "Name: Fitness, dtype: float64\n"
     ]
    }
   ],
   "source": [
    "# Print the mean fitness score for each marital status\n",
    "print(mean_fitness_by_marital_status)"
   ]
  },
  {
   "cell_type": "code",
   "execution_count": 83,
   "id": "de0adde9",
   "metadata": {
    "scrolled": true
   },
   "outputs": [],
   "source": [
    "# Filter the data for customers below the age of 40\n",
    "young_customers = df[df['Age'] < 40]\n"
   ]
  },
  {
   "cell_type": "code",
   "execution_count": 84,
   "id": "d75f88af",
   "metadata": {},
   "outputs": [],
   "source": [
    "# Count the number of occurrences for each product\n",
    "product_counts = young_customers['Product'].value_counts()\n",
    "\n"
   ]
  },
  {
   "cell_type": "code",
   "execution_count": 85,
   "id": "27349d00",
   "metadata": {},
   "outputs": [
    {
     "name": "stdout",
     "output_type": "stream",
     "text": [
      "TM195    73\n",
      "TM498    55\n",
      "TM798    35\n",
      "Name: Product, dtype: int64\n"
     ]
    }
   ],
   "source": [
    "# Print the product counts\n",
    "print(product_counts)"
   ]
  },
  {
   "cell_type": "code",
   "execution_count": null,
   "id": "e8103416",
   "metadata": {},
   "outputs": [],
   "source": []
  }
 ],
 "metadata": {
  "kernelspec": {
   "display_name": "Python 3 (ipykernel)",
   "language": "python",
   "name": "python3"
  },
  "language_info": {
   "codemirror_mode": {
    "name": "ipython",
    "version": 3
   },
   "file_extension": ".py",
   "mimetype": "text/x-python",
   "name": "python",
   "nbconvert_exporter": "python",
   "pygments_lexer": "ipython3",
   "version": "3.9.13"
  }
 },
 "nbformat": 4,
 "nbformat_minor": 5
}
